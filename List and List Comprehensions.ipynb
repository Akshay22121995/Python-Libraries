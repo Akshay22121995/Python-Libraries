{
 "cells": [
  {
   "cell_type": "markdown",
   "id": "a713c7e0",
   "metadata": {},
   "source": [
    "# <font color = red>List and List Comprehensions"
   ]
  },
  {
   "cell_type": "markdown",
   "id": "135927e1",
   "metadata": {},
   "source": [
    "## 17 Quick Examples to Learn Python Lists"
   ]
  },
  {
   "cell_type": "code",
   "execution_count": 3,
   "id": "2231c831",
   "metadata": {},
   "outputs": [],
   "source": [
    "mylist = [1, 2, 3, 4, 4, 4, 5, 5, 'a', 'b']"
   ]
  },
  {
   "cell_type": "markdown",
   "id": "38bcf732",
   "metadata": {},
   "source": [
    "The count method returns the number of occurrences of an item in a list.\n"
   ]
  },
  {
   "cell_type": "code",
   "execution_count": 6,
   "id": "f1230c9d",
   "metadata": {},
   "outputs": [
    {
     "data": {
      "text/plain": [
       "3"
      ]
     },
     "execution_count": 6,
     "metadata": {},
     "output_type": "execute_result"
    }
   ],
   "source": [
    "mylist.count(4)\n"
   ]
  },
  {
   "cell_type": "markdown",
   "id": "a2404b4c",
   "metadata": {},
   "source": [
    "The pop method removes an item from a list. By default, it removes the last item but we can specify the index of the item to be removed."
   ]
  },
  {
   "cell_type": "code",
   "execution_count": 7,
   "id": "0b2cb2a8",
   "metadata": {},
   "outputs": [
    {
     "data": {
      "text/plain": [
       "'b'"
      ]
     },
     "execution_count": 7,
     "metadata": {},
     "output_type": "execute_result"
    }
   ],
   "source": [
    "mylist.pop()"
   ]
  },
  {
   "cell_type": "code",
   "execution_count": 8,
   "id": "0777c2c7",
   "metadata": {},
   "outputs": [
    {
     "data": {
      "text/plain": [
       "2"
      ]
     },
     "execution_count": 8,
     "metadata": {},
     "output_type": "execute_result"
    }
   ],
   "source": [
    "mylist.pop(1)\n"
   ]
  },
  {
   "cell_type": "code",
   "execution_count": 9,
   "id": "c00bb992",
   "metadata": {},
   "outputs": [
    {
     "data": {
      "text/plain": [
       "[1, 3, 4, 4, 4, 5, 5, 'a']"
      ]
     },
     "execution_count": 9,
     "metadata": {},
     "output_type": "execute_result"
    }
   ],
   "source": [
    "mylist\n"
   ]
  },
  {
   "cell_type": "markdown",
   "id": "c054e50c",
   "metadata": {},
   "source": [
    "Another option to remove an item from a list is the remove method. It requires to specify the item to be removed rather than its index.\n",
    "* If there are multiple items with the same value, the remove method removes the first occurrence.\n"
   ]
  },
  {
   "cell_type": "code",
   "execution_count": 10,
   "id": "4c19791c",
   "metadata": {},
   "outputs": [],
   "source": [
    "mylist.remove('a')"
   ]
  },
  {
   "cell_type": "code",
   "execution_count": 11,
   "id": "b482e267",
   "metadata": {},
   "outputs": [
    {
     "data": {
      "text/plain": [
       "[1, 3, 4, 4, 4, 5, 5]"
      ]
     },
     "execution_count": 11,
     "metadata": {},
     "output_type": "execute_result"
    }
   ],
   "source": [
    "mylist"
   ]
  },
  {
   "cell_type": "markdown",
   "id": "cd0ba89b",
   "metadata": {},
   "source": [
    "There is an important difference between the pop and remove methods. The pop returns the removed item so it can be assigned to a new variable. On the other hand, the remove method does not return anything."
   ]
  },
  {
   "cell_type": "code",
   "execution_count": 13,
   "id": "5a4bf695",
   "metadata": {},
   "outputs": [
    {
     "name": "stdout",
     "output_type": "stream",
     "text": [
      "d\n",
      "None\n"
     ]
    }
   ],
   "source": [
    "mylist = ['a', 'b', 'c', 'd']\n",
    "\n",
    "var_pop = mylist.pop()\n",
    "var_remove = mylist.remove('a')\n",
    "print(var_pop)\n",
    "print(var_remove)"
   ]
  },
  {
   "cell_type": "markdown",
   "id": "5bda1b78",
   "metadata": {},
   "source": [
    "The clear method removes all the items in a list so we end up having an empty list.\n"
   ]
  },
  {
   "cell_type": "code",
   "execution_count": 14,
   "id": "c4a4d55b",
   "metadata": {},
   "outputs": [
    {
     "name": "stdout",
     "output_type": "stream",
     "text": [
      "[]\n"
     ]
    }
   ],
   "source": [
    "mylist = ['a', 'b', 'c', 'd']\n",
    "mylist.clear()\n",
    "print(mylist)"
   ]
  },
  {
   "cell_type": "markdown",
   "id": "61d9ddf9",
   "metadata": {},
   "source": [
    "We can add a new item to a list by using the append method."
   ]
  },
  {
   "cell_type": "code",
   "execution_count": 15,
   "id": "5c162dfc",
   "metadata": {},
   "outputs": [
    {
     "name": "stdout",
     "output_type": "stream",
     "text": [
      "['a', 'b', 'c', 'd', 1]\n"
     ]
    }
   ],
   "source": [
    "mylist = ['a', 'b', 'c', 'd']\n",
    "mylist.append(1)\n",
    "print(mylist)"
   ]
  },
  {
   "cell_type": "markdown",
   "id": "916976e9",
   "metadata": {},
   "source": [
    "If you try to append a list to another list, the appended list will be an item in the original list."
   ]
  },
  {
   "cell_type": "code",
   "execution_count": 16,
   "id": "088c78bc",
   "metadata": {},
   "outputs": [
    {
     "name": "stdout",
     "output_type": "stream",
     "text": [
      "['a', 'b', 'c', 'd', [1, 2, 4]]\n"
     ]
    }
   ],
   "source": [
    "mylist = ['a', 'b', 'c', 'd']\n",
    "myotherlist = [1, 2, 4]\n",
    "mylist.append(myotherlist)\n",
    "print(mylist)"
   ]
  },
  {
   "cell_type": "markdown",
   "id": "831d1a23",
   "metadata": {},
   "source": [
    "If you want to append each item separately, use the extend method instead.\n"
   ]
  },
  {
   "cell_type": "code",
   "execution_count": 17,
   "id": "e3160a7b",
   "metadata": {},
   "outputs": [
    {
     "name": "stdout",
     "output_type": "stream",
     "text": [
      "['a', 'b', 'c', 'd', 1, 2, 4]\n"
     ]
    }
   ],
   "source": [
    "mylist = ['a', 'b', 'c', 'd']\n",
    "myotherlist = [1, 2, 4]\n",
    "mylist.extend(myotherlist)\n",
    "print(mylist)"
   ]
  },
  {
   "cell_type": "markdown",
   "id": "47cb41b2",
   "metadata": {},
   "source": [
    "We can use the list constructor to create a list based on the characters in a string.\n"
   ]
  },
  {
   "cell_type": "code",
   "execution_count": 19,
   "id": "f7d908cc",
   "metadata": {},
   "outputs": [
    {
     "name": "stdout",
     "output_type": "stream",
     "text": [
      "['p', 'y', 't', 'h', 'o', 'n']\n"
     ]
    }
   ],
   "source": [
    "mylist = list(\"python\")\n",
    "print(mylist)"
   ]
  },
  {
   "cell_type": "markdown",
   "id": "555c219b",
   "metadata": {},
   "source": [
    "The reverse method can be used to reverse the order of items in a list. It does the reversing operation in place so nothing is returned.\n"
   ]
  },
  {
   "cell_type": "code",
   "execution_count": 20,
   "id": "41b41c3d",
   "metadata": {},
   "outputs": [
    {
     "name": "stdout",
     "output_type": "stream",
     "text": [
      "['n', 'o', 'h', 't', 'y', 'p']\n"
     ]
    }
   ],
   "source": [
    "mylist.reverse()\n",
    "print(mylist)"
   ]
  },
  {
   "cell_type": "markdown",
   "id": "0e6cb51d",
   "metadata": {},
   "source": [
    "We can sort the items in a list with the sort method.\n"
   ]
  },
  {
   "cell_type": "code",
   "execution_count": 21,
   "id": "7e72533a",
   "metadata": {},
   "outputs": [
    {
     "name": "stdout",
     "output_type": "stream",
     "text": [
      "['a', 'c', 'd', 'g']\n",
      "[2, 4, 7, 11]\n"
     ]
    }
   ],
   "source": [
    "mylist = ['g','a', 'c', 'd']\n",
    "myotherlist = [4, 2, 11, 7]\n",
    "mylist.sort()\n",
    "myotherlist.sort()\n",
    "print(mylist)\n",
    "\n",
    "print(myotherlist)"
   ]
  },
  {
   "cell_type": "markdown",
   "id": "fc2a1e46",
   "metadata": {},
   "source": [
    "The sort method sorts in ascending order by default. It can be changed by using the reverse parameter."
   ]
  },
  {
   "cell_type": "code",
   "execution_count": 22,
   "id": "559f0a5c",
   "metadata": {},
   "outputs": [
    {
     "name": "stdout",
     "output_type": "stream",
     "text": [
      "['g', 'd', 'c', 'a']\n",
      "[11, 7, 4, 2]\n"
     ]
    }
   ],
   "source": [
    " ylist = ['g','a', 'c', 'd']\n",
    "myotherlist = [4, 2, 11, 7]\n",
    "mylist.sort(reverse=True)\n",
    "myotherlist.sort(reverse=True)\n",
    "print(mylist)\n",
    "\n",
    "print(myotherlist)"
   ]
  },
  {
   "cell_type": "markdown",
   "id": "b7a3b415",
   "metadata": {},
   "source": [
    "The sort method works in place. Thus, it modifies the original list but does not return anything. If you want to update the original one but need a sorted version of it, the built-in sorted function can be used.\n",
    "* The original one remains the same. We have a new list which is the sorted version of the original one.\n"
   ]
  },
  {
   "cell_type": "code",
   "execution_count": 23,
   "id": "928a4756",
   "metadata": {},
   "outputs": [
    {
     "name": "stdout",
     "output_type": "stream",
     "text": [
      "['g', 'a', 'c', 'd']\n",
      "['a', 'c', 'd', 'g']\n"
     ]
    }
   ],
   "source": [
    "mylist = ['g','a', 'c', 'd']\n",
    "mysortedlist = sorted(mylist)\n",
    "print(mylist)\n",
    "\n",
    "print(mysortedlist)"
   ]
  },
  {
   "cell_type": "markdown",
   "id": "90054a16",
   "metadata": {},
   "source": [
    "We have seen the append method which is used to add a new item to a list. It adds the new item at the end.\n",
    "The insert method offers more flexibility. It allows for specifying the index for the new item.\n",
    "* The first parameter is the index and the second one is the item to be added."
   ]
  },
  {
   "cell_type": "code",
   "execution_count": 24,
   "id": "9a0b3488",
   "metadata": {},
   "outputs": [
    {
     "name": "stdout",
     "output_type": "stream",
     "text": [
      "[1, 2, 'AAA', 3, 4, 5]\n"
     ]
    }
   ],
   "source": [
    "mylist = [1, 2, 3, 4, 5]\n",
    "mylist.insert(2, 'AAA')\n",
    "print(mylist)"
   ]
  },
  {
   "cell_type": "markdown",
   "id": "e4a69ebe",
   "metadata": {},
   "source": [
    "The built-in len function returns the number of items in a list.\n"
   ]
  },
  {
   "cell_type": "code",
   "execution_count": 25,
   "id": "81f6983a",
   "metadata": {},
   "outputs": [
    {
     "data": {
      "text/plain": [
       "5"
      ]
     },
     "execution_count": 25,
     "metadata": {},
     "output_type": "execute_result"
    }
   ],
   "source": [
    "mylist = [1, 2, 3, 4, 5]\n",
    "len(mylist)"
   ]
  },
  {
   "cell_type": "markdown",
   "id": "b6270493",
   "metadata": {},
   "source": [
    "We can use the “+” operator to combine multiple lists."
   ]
  },
  {
   "cell_type": "code",
   "execution_count": 26,
   "id": "c97fd7cb",
   "metadata": {},
   "outputs": [
    {
     "data": {
      "text/plain": [
       "[1, 2, 3, 4, 5, 10, 11, 12, 1, 'A']"
      ]
     },
     "execution_count": 26,
     "metadata": {},
     "output_type": "execute_result"
    }
   ],
   "source": [
    "first = [1, 2, 3, 4, 5]\n",
    "second = [10, 11, 12]\n",
    "third = [1, 'A']\n",
    "first + second + third"
   ]
  },
  {
   "cell_type": "markdown",
   "id": "4af89672",
   "metadata": {},
   "source": [
    "We can obtain a list by splitting a string. The split function creates a list that contains each part after splitting.\n",
    "* We specify the character to be used as the split point which is space in our case."
   ]
  },
  {
   "cell_type": "code",
   "execution_count": 27,
   "id": "ffa98058",
   "metadata": {},
   "outputs": [
    {
     "name": "stdout",
     "output_type": "stream",
     "text": [
      "['Python', 'is', 'awesome']\n"
     ]
    }
   ],
   "source": [
    "text = \"Python is awesome\"\n",
    "mylist = text.split(\" \")\n",
    "print(mylist)"
   ]
  },
  {
   "cell_type": "markdown",
   "id": "c05eb1b1",
   "metadata": {},
   "source": [
    "List comprehension is a technique to create lists based on other iterables. For instance, we can create a list based on another list."
   ]
  },
  {
   "cell_type": "code",
   "execution_count": 65,
   "id": "243119ba",
   "metadata": {},
   "outputs": [
    {
     "name": "stdout",
     "output_type": "stream",
     "text": [
      "[4, 2, 1, 5, 7]\n"
     ]
    }
   ],
   "source": [
    "mylist = [\"This\", \"is\", \"a\", \"great\", \"example\"]\n",
    "newlist = [len(x) for x in mylist]\n",
    "print(newlist)"
   ]
  },
  {
   "cell_type": "markdown",
   "id": "f9b18216",
   "metadata": {},
   "source": [
    "# <font color = red>List Comprehensions"
   ]
  },
  {
   "cell_type": "markdown",
   "id": "f9ba5261",
   "metadata": {},
   "source": [
    "### List comprehension is basically creating lists based on existing iterables. It can also be described as representing for and if loops with a simpler and more appealing syntax. List comprehensions are relatively faster than for loops."
   ]
  },
  {
   "cell_type": "markdown",
   "id": "fe56ae93",
   "metadata": {},
   "source": [
    "<img src =\"List Comprehensions.png\">"
   ]
  },
  {
   "cell_type": "markdown",
   "id": "22357fbf",
   "metadata": {},
   "source": [
    "### So we iterate over an iterable and do something (optional!) with the items and then put them in a list. In some cases, we just take the items that fit a specified condition."
   ]
  },
  {
   "cell_type": "markdown",
   "id": "ac8e810a",
   "metadata": {},
   "source": [
    "We iterate over a list (iterable) and take the elements that are greater than 5 (condition)."
   ]
  },
  {
   "cell_type": "code",
   "execution_count": 34,
   "id": "e1a826c4",
   "metadata": {},
   "outputs": [
    {
     "data": {
      "text/plain": [
       "[6, 7]"
      ]
     },
     "execution_count": 34,
     "metadata": {},
     "output_type": "execute_result"
    }
   ],
   "source": [
    "import numpy as np\n",
    "a = [4,6,7,3,2]\n",
    "b = [x for x in a if x > 5]\n",
    "b"
   ]
  },
  {
   "cell_type": "markdown",
   "id": "77309786",
   "metadata": {},
   "source": [
    "We can also do something with items before putting them in a new list:\n",
    "* We multiply the items that fit the condition by 2 and then put in a list."
   ]
  },
  {
   "cell_type": "code",
   "execution_count": 35,
   "id": "011f798c",
   "metadata": {},
   "outputs": [
    {
     "data": {
      "text/plain": [
       "[12, 14]"
      ]
     },
     "execution_count": 35,
     "metadata": {},
     "output_type": "execute_result"
    }
   ],
   "source": [
    "import numpy as np\n",
    "a = [4,6,7,3,2]\n",
    "b = [x*2 for x in a if x > 5]\n",
    "b"
   ]
  },
  {
   "cell_type": "markdown",
   "id": "e43d2bd8",
   "metadata": {},
   "source": [
    "The condition is that string starts with the letter “c”. Since we have both capital and lowercase letters, we convert all letters to lowercase first."
   ]
  },
  {
   "cell_type": "code",
   "execution_count": 36,
   "id": "7e69634c",
   "metadata": {},
   "outputs": [
    {
     "data": {
      "text/plain": [
       "['Ch', 'cb']"
      ]
     },
     "execution_count": 36,
     "metadata": {},
     "output_type": "execute_result"
    }
   ],
   "source": [
    "names = ['Ch','Dh','Eh','cb','Tb','Td']\n",
    "new_names = [name for name in names if name.lower().startswith('c')]\n",
    "new_names"
   ]
  },
  {
   "cell_type": "markdown",
   "id": "ce8918ab",
   "metadata": {},
   "source": [
    "We iterate over the rows in matrix A and take the maximum number."
   ]
  },
  {
   "cell_type": "code",
   "execution_count": 40,
   "id": "2e4a7d47",
   "metadata": {},
   "outputs": [
    {
     "data": {
      "text/plain": [
       "array([[2, 7, 2, 0],\n",
       "       [8, 8, 2, 5],\n",
       "       [9, 7, 4, 9],\n",
       "       [9, 5, 6, 8]])"
      ]
     },
     "execution_count": 40,
     "metadata": {},
     "output_type": "execute_result"
    }
   ],
   "source": [
    "A = np.random.randint(10, size=(4,4))\n",
    "A\n"
   ]
  },
  {
   "cell_type": "code",
   "execution_count": 44,
   "id": "23228a61",
   "metadata": {},
   "outputs": [
    {
     "data": {
      "text/plain": [
       "[7, 8, 9, 9]"
      ]
     },
     "execution_count": 44,
     "metadata": {},
     "output_type": "execute_result"
    }
   ],
   "source": [
    "max_element = [max(i) for i in A]\n",
    "max_element"
   ]
  },
  {
   "cell_type": "markdown",
   "id": "5ef1d16d",
   "metadata": {},
   "source": [
    "We create a list of the maximum values in each list."
   ]
  },
  {
   "cell_type": "code",
   "execution_count": 45,
   "id": "02707a1f",
   "metadata": {},
   "outputs": [
    {
     "data": {
      "text/plain": [
       "[3, 5, 6]"
      ]
     },
     "execution_count": 45,
     "metadata": {},
     "output_type": "execute_result"
    }
   ],
   "source": [
    "vals = [[1,2,3],[4,5,2],[3,2,6]]\n",
    "vals_max = [max(x) for x in vals]\n",
    "vals_max"
   ]
  },
  {
   "cell_type": "markdown",
   "id": "3367cbb5",
   "metadata": {},
   "source": [
    "We can have multiple conditions in a list comprehension.\n",
    "* We get the strings that end with the letter “b” and have a length greater than 2."
   ]
  },
  {
   "cell_type": "code",
   "execution_count": 47,
   "id": "a1435f39",
   "metadata": {},
   "outputs": [
    {
     "data": {
      "text/plain": [
       "['Chb', 'Tdb']"
      ]
     },
     "execution_count": 47,
     "metadata": {},
     "output_type": "execute_result"
    }
   ],
   "source": [
    "names = ['Ch','Dh','Eh','cb','Tb','Td','Chb','Tdb']\n",
    "new_names = [name for name in names if name.lower().endswith('b') and len(name) > 2]\n",
    "new_names"
   ]
  },
  {
   "cell_type": "markdown",
   "id": "14e145de",
   "metadata": {},
   "source": [
    "We can combine multiple conditions with other logical operators:"
   ]
  },
  {
   "cell_type": "code",
   "execution_count": 48,
   "id": "ed43f7e8",
   "metadata": {},
   "outputs": [
    {
     "data": {
      "text/plain": [
       "['chb', 'ydb']"
      ]
     },
     "execution_count": 48,
     "metadata": {},
     "output_type": "execute_result"
    }
   ],
   "source": [
    "names = ['chb', 'ydb', 'thd', 'hgh']\n",
    "new_names = [name for name in names \n",
    "if name.endswith('b') | name.startswith('c')]\n",
    "new_names"
   ]
  },
  {
   "cell_type": "markdown",
   "id": "0628104e",
   "metadata": {},
   "source": [
    "There is a much easier way to do the operation in above example which is the explode function of pandas. I used list comprehension just to show the structure. It can be done with the explode function as follows:"
   ]
  },
  {
   "cell_type": "code",
   "execution_count": 56,
   "id": "3675a7b9",
   "metadata": {
    "scrolled": true
   },
   "outputs": [
    {
     "data": {
      "text/plain": [
       "0    1\n",
       "0    2\n",
       "0    3\n",
       "1    4\n",
       "1    5\n",
       "1    2\n",
       "2    3\n",
       "2    2\n",
       "2    6\n",
       "dtype: object"
      ]
     },
     "execution_count": 56,
     "metadata": {},
     "output_type": "execute_result"
    }
   ],
   "source": [
    "pd.Series(vals).explode()"
   ]
  },
  {
   "cell_type": "markdown",
   "id": "1c567255",
   "metadata": {},
   "source": [
    "It returns a pandas series but you can easily convert it to a list."
   ]
  },
  {
   "cell_type": "markdown",
   "id": "26cfdf43",
   "metadata": {},
   "source": [
    "We can also have nested list comprehensions which are a little bit more complex. They represent nested for loops.\n",
    "* Consider the following list of lists:\n"
   ]
  },
  {
   "cell_type": "code",
   "execution_count": 51,
   "id": "32447949",
   "metadata": {},
   "outputs": [],
   "source": [
    "vals = [[1,2,3],[4,5,2],[3,2,6]]"
   ]
  },
  {
   "cell_type": "markdown",
   "id": "03ab7f87",
   "metadata": {},
   "source": [
    "We want to take out each element from the nested lists so the desired output is:\n"
   ]
  },
  {
   "cell_type": "code",
   "execution_count": 52,
   "id": "1dbe88f3",
   "metadata": {},
   "outputs": [],
   "source": [
    "vals = [1,2,3,4,5,2,3,2,6]\n"
   ]
  },
  {
   "cell_type": "markdown",
   "id": "e395e8b2",
   "metadata": {},
   "source": [
    "Here is the nested list comprehension that does this operation:\n"
   ]
  },
  {
   "cell_type": "code",
   "execution_count": 53,
   "id": "6412d402",
   "metadata": {},
   "outputs": [
    {
     "data": {
      "text/plain": [
       "[1, 2, 3, 4, 5, 2, 3, 2, 6]"
      ]
     },
     "execution_count": 53,
     "metadata": {},
     "output_type": "execute_result"
    }
   ],
   "source": [
    "vals = [[1,2,3],[4,5,2],[3,2,6]]\n",
    "vals_exp = [y for x in vals for y in x]\n",
    "vals_exp\n",
    "[1, 2, 3, 4, 5, 2, 3, 2, 6]"
   ]
  },
  {
   "cell_type": "markdown",
   "id": "58d5afda",
   "metadata": {},
   "source": [
    "The syntax may not seem very intuitive. It will be clear when compared with the equivalent for loop.\n",
    "* We put the blocks of a nested for loop into a list comprehension."
   ]
  },
  {
   "cell_type": "markdown",
   "id": "48e59094",
   "metadata": {},
   "source": [
    "<img src = \"img.png\">"
   ]
  },
  {
   "cell_type": "markdown",
   "id": "bfbd5a0b",
   "metadata": {},
   "source": [
    "We can also add conditions in nested list comprehensions. Consider the following list of lists with strings."
   ]
  },
  {
   "cell_type": "code",
   "execution_count": 57,
   "id": "e105e36f",
   "metadata": {},
   "outputs": [],
   "source": [
    "text = [['bar','foo','fooba'],['Rome','Madrid','Houston'], ['aa','bb','cc','dd']]"
   ]
  },
  {
   "cell_type": "markdown",
   "id": "5840816e",
   "metadata": {},
   "source": [
    "We only want the strings in nested lists whose length is greater than 3.\n",
    "* We put the condition on the nested lists, not on individual elements. Thus, the equivalent nested for/if loop syntax is as follows.\n"
   ]
  },
  {
   "cell_type": "code",
   "execution_count": 61,
   "id": "20eb0031",
   "metadata": {},
   "outputs": [
    {
     "data": {
      "text/plain": [
       "['aa', 'bb', 'cc', 'dd']"
      ]
     },
     "execution_count": 61,
     "metadata": {},
     "output_type": "execute_result"
    }
   ],
   "source": [
    "text_1 = [y for x in text if len(x)>3 for y in x]\n",
    "'''text_1 = []\n",
    "for x in text:\n",
    "    if len(x)>3:\n",
    "        for y in x:\n",
    "            text_1.append(y)'''\n",
    "text_1"
   ]
  },
  {
   "cell_type": "markdown",
   "id": "8b96cb96",
   "metadata": {},
   "source": [
    "We can also put a condition on individual elements."
   ]
  },
  {
   "cell_type": "code",
   "execution_count": 63,
   "id": "3143a165",
   "metadata": {},
   "outputs": [
    {
     "data": {
      "text/plain": [
       "['fooba', 'Madrid', 'Houston']"
      ]
     },
     "execution_count": 63,
     "metadata": {},
     "output_type": "execute_result"
    }
   ],
   "source": [
    "text_2 = [y for x in text for y in x if len(y)>4]\n",
    "'''text_2 = []\n",
    "for x in text:\n",
    "    for y in x:\n",
    "        if len(y)>4:\n",
    "            text_2.append(y)'''\n",
    "text_2"
   ]
  },
  {
   "cell_type": "markdown",
   "id": "a595e57c",
   "metadata": {},
   "source": [
    "We may also need to put conditions on both nested lists and individual items."
   ]
  },
  {
   "cell_type": "markdown",
   "id": "33605696",
   "metadata": {},
   "source": [
    "We get the items that start with the letter “f” in nested lists with a length of 3 and then convert all the letters of selected items to uppercase."
   ]
  },
  {
   "cell_type": "code",
   "execution_count": 64,
   "id": "c0d9fbb0",
   "metadata": {},
   "outputs": [
    {
     "data": {
      "text/plain": [
       "['FOO', 'FOOBA']"
      ]
     },
     "execution_count": 64,
     "metadata": {},
     "output_type": "execute_result"
    }
   ],
   "source": [
    "text_3 = [y.upper() for x in text if len(x) == 3 for y in x if y.startswith('f')]\n",
    "text_3"
   ]
  },
  {
   "cell_type": "markdown",
   "id": "5de73005",
   "metadata": {},
   "source": [
    "# <font color = red>Bonus: When not to use list comprehension\n",
    "\n",
    "\n"
   ]
  },
  {
   "cell_type": "markdown",
   "id": "376c06f4",
   "metadata": {},
   "source": [
    "## List comprehension loads the entire output list into memory. This is acceptable or even desirable for small or medium-sized lists because it makes the operation faster. However, when we are working with large lists (e.g. 1 billion elements), list comprehension should be avoided. It may cause your computer to crash due to the extreme amount of memory requirement.\n",
    "## A better alternative for such large lists is using a generator that does not actually create a large data structure in memory. A generator creates items when they are used. After the items are used, the generator throws them away. Using a generator, we can ask for the next item in an iterable until we reach the end and store a single value at a time."
   ]
  },
  {
   "cell_type": "code",
   "execution_count": null,
   "id": "4f50fed8",
   "metadata": {},
   "outputs": [],
   "source": []
  }
 ],
 "metadata": {
  "kernelspec": {
   "display_name": "Python 3",
   "language": "python",
   "name": "python3"
  },
  "language_info": {
   "codemirror_mode": {
    "name": "ipython",
    "version": 3
   },
   "file_extension": ".py",
   "mimetype": "text/x-python",
   "name": "python",
   "nbconvert_exporter": "python",
   "pygments_lexer": "ipython3",
   "version": "3.8.8"
  }
 },
 "nbformat": 4,
 "nbformat_minor": 5
}
